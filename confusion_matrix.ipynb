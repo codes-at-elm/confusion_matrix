{
 "cells": [
  {
   "cell_type": "markdown",
   "id": "234230cd-1be6-4cc7-b9f7-66935b4a68dc",
   "metadata": {},
   "source": [
    "Importing libraries"
   ]
  },
  {
   "cell_type": "code",
   "execution_count": 92,
   "id": "ca949d99-1af3-4252-a884-6a5c3dfd87f6",
   "metadata": {},
   "outputs": [],
   "source": [
    "import numpy as np\n",
    "import sklearn\n",
    "from sklearn.metrics import confusion_matrix\n",
    "from sklearn.metrics import accuracy_score, precision_score, recall_score, f1_score\n",
    "import matplotlib\n",
    "import matplotlib.pyplot as plt"
   ]
  },
  {
   "cell_type": "markdown",
   "id": "d6f35372-32e9-48fe-b90d-13e5daa132d5",
   "metadata": {},
   "source": [
    "Printing versions of libraries"
   ]
  },
  {
   "cell_type": "code",
   "execution_count": 93,
   "id": "00a6783f-bf66-4ac3-b192-bc2447270bad",
   "metadata": {},
   "outputs": [
    {
     "name": "stdout",
     "output_type": "stream",
     "text": [
      "numpy version: 1.23.5\n",
      "skikit-learn version: 1.2.1\n",
      "matplotlib version: 3.7.0\n"
     ]
    }
   ],
   "source": [
    "print('numpy version: {}'.format(np.__version__))\n",
    "print('skikit-learn version: {}'.format(sklearn.__version__)) \n",
    "print('matplotlib version: {}'.format(matplotlib.__version__))"
   ]
  },
  {
   "cell_type": "markdown",
   "id": "98786216-bc80-4089-a047-5292e9df9f76",
   "metadata": {},
   "source": [
    "Creating dummy data for actual and predicted labels"
   ]
  },
  {
   "cell_type": "code",
   "execution_count": 94,
   "id": "570502c8-47a1-4744-8b01-798908d49bb7",
   "metadata": {},
   "outputs": [],
   "source": [
    "actual = np.array(\n",
    "    ['Cat', 'Dog', 'Dog', 'Cat', 'Cat', 'Cat', 'Dog', 'Cat', 'Dog', 'Dog'])\n",
    "predicted = np.array(\n",
    "    ['Cat', 'Cat', 'Dog', 'Cat', 'Cat', 'Cat', 'Cat', 'Dog', 'Dog', 'Dog'])"
   ]
  },
  {
   "cell_type": "markdown",
   "id": "9ce073be-7a3c-470f-8763-b234a6d8ae50",
   "metadata": {},
   "source": [
    "Computing confusion matrix"
   ]
  },
  {
   "cell_type": "code",
   "execution_count": 95,
   "id": "34309ef6-34db-41e5-9423-1fe749abbc0d",
   "metadata": {},
   "outputs": [
    {
     "name": "stdout",
     "output_type": "stream",
     "text": [
      "Confusion Matrix\n",
      "[[4 1]\n",
      " [2 3]]\n"
     ]
    }
   ],
   "source": [
    "cm = confusion_matrix(actual, predicted)\n",
    "print('Confusion Matrix')\n",
    "print(cm)"
   ]
  },
  {
   "cell_type": "markdown",
   "id": "deb237b4-2ee2-4ead-a177-264c29b096ca",
   "metadata": {},
   "source": [
    "Computing accuracy, precision, recall and f1-score"
   ]
  },
  {
   "cell_type": "code",
   "execution_count": 96,
   "id": "8b7635b8-fe58-4a1b-b967-30f0b0b587c3",
   "metadata": {},
   "outputs": [
    {
     "name": "stdout",
     "output_type": "stream",
     "text": [
      "Accuracy  : 0.7\n",
      "Precision : 0.6666666666666666\n",
      "Recall    : 0.8\n",
      "F1-Score  : 0.7272727272727272\n"
     ]
    }
   ],
   "source": [
    "accuracy = accuracy_score(actual, predicted)\n",
    "print('Accuracy  :', accuracy)\n",
    "precision = precision_score(actual, predicted, pos_label='Cat')\n",
    "print('Precision :', precision) \n",
    "recall = recall_score(actual, predicted, pos_label='Cat')\n",
    "print('Recall    :', recall)\n",
    "F1_Score = f1_score(actual, predicted, pos_label='Cat')\n",
    "print('F1-Score  :', F1_Score)"
   ]
  },
  {
   "cell_type": "markdown",
   "id": "d2626dbd-d31b-40ef-9fea-b21bc876c39e",
   "metadata": {},
   "source": [
    "Plotting the confusion matrix"
   ]
  },
  {
   "cell_type": "code",
   "execution_count": 97,
   "id": "248b771a-4040-45a6-8397-b9f4e415be03",
   "metadata": {},
   "outputs": [
    {
     "data": {
      "image/png": "[encoded data removed]",
      "text/plain": [
       "<Figure size 640x480 with 1 Axes>"
      ]
     },
     "metadata": {},
     "output_type": "display_data"
    }
   ],
   "source": [
    "fig, ax = plt.subplots()\n",
    "im = ax.imshow(cm)\n",
    "\n",
    "# Showing all ticks and labelling them with the respective list entries\n",
    "ax.set_xticks(np.arange(2), labels=['Cat', 'Dog'])\n",
    "ax.set_yticks(np.arange(2), labels=['Cat', 'Dog'])\n",
    "\n",
    "# Setting labels for x-axis and y-axis\n",
    "ax.set_xlabel('Predicted', fontsize=13)\n",
    "ax.set_ylabel('Actual', fontsize=13)\n",
    "\n",
    "# Creating text annotations.\n",
    "for i in range(2):\n",
    "    for j in range(2):\n",
    "        text = ax.text(j, i, cm[i, j], color='r')\n",
    "\n",
    "ax.set_title('Confusion Matrix', fontsize=15)\n",
    "fig.tight_layout()\n",
    "plt.show()"
   ]
  }
 ],
 "metadata": {
  "kernelspec": {
   "display_name": "Python 3 (ipykernel)",
   "language": "python",
   "name": "python3"
  },
  "language_info": {
   "codemirror_mode": {
    "name": "ipython",
    "version": 3
   },
   "file_extension": ".py",
   "mimetype": "text/x-python",
   "name": "python",
   "nbconvert_exporter": "python",
   "pygments_lexer": "ipython3",
   "version": "3.10.9"
  }
 },
 "nbformat": 4,
 "nbformat_minor": 5
}
