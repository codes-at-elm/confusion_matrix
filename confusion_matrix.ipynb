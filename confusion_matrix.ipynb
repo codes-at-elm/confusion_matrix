{
 "cells": [
  {
   "cell_type": "markdown",
   "id": "e9bff940-9802-4c91-9321-3d283c7853f5",
   "metadata": {},
   "source": [
    "# Confusion Matrix"
   ]
  },
  {
   "cell_type": "markdown",
   "id": "234230cd-1be6-4cc7-b9f7-66935b4a68dc",
   "metadata": {},
   "source": [
    "## Importing libraries"
   ]
  },
  {
   "cell_type": "code",
   "execution_count": 154,
   "id": "ca949d99-1af3-4252-a884-6a5c3dfd87f6",
   "metadata": {},
   "outputs": [],
   "source": [
    "import numpy as np\n",
    "import sklearn\n",
    "from sklearn.metrics import confusion_matrix\n",
    "from sklearn.metrics import accuracy_score, precision_score, recall_score, f1_score\n",
    "import matplotlib\n",
    "import matplotlib.pyplot as plt"
   ]
  },
  {
   "cell_type": "markdown",
   "id": "d6f35372-32e9-48fe-b90d-13e5daa132d5",
   "metadata": {},
   "source": [
    "Printing versions of libraries"
   ]
  },
  {
   "cell_type": "code",
   "execution_count": 155,
   "id": "00a6783f-bf66-4ac3-b192-bc2447270bad",
   "metadata": {},
   "outputs": [
    {
     "name": "stdout",
     "output_type": "stream",
     "text": [
      "numpy version: 1.23.5\n",
      "skikit-learn version: 1.2.1\n",
      "matplotlib version: 3.7.0\n"
     ]
    }
   ],
   "source": [
    "print('numpy version: {}'.format(np.__version__))\n",
    "print('skikit-learn version: {}'.format(sklearn.__version__)) \n",
    "print('matplotlib version: {}'.format(matplotlib.__version__))"
   ]
  },
  {
   "cell_type": "markdown",
   "id": "c12ac862-faa6-4933-9470-3efb6f3f7a4e",
   "metadata": {},
   "source": [
    "## What is confusion matrix?"
   ]
  },
  {
   "cell_type": "markdown",
   "id": "2e765b6d-d6bc-4886-8685-cb15939731b8",
   "metadata": {},
   "source": [
    "A confusion matrix is a table layout that allows visualization of the performance of a classification algorithm. In a confusion matrix, each row represents the instances in an actual class while each column represents the instances in a predicted class, or vice versa. It makes it easy to see how many observations were classified (labelled) incorrectly.\n",
    "\n",
    "A binary confusion matrix uses four kinds of results, true positive, false negative, false positive and true negative along with positive and negative classifications. The four outcomes can be formulated in a 2x2 confusion matrix, as shown below. "
   ]
  },
  {
   "cell_type": "markdown",
   "id": "94b7641f-f565-4413-883a-e5010cbd950f",
   "metadata": {},
   "source": [
    "![Confusion Matrix](confusion_matrix.png)"
   ]
  },
  {
   "cell_type": "markdown",
   "id": "44c91c72-5cb9-46dc-abbe-484c2e6154ea",
   "metadata": {},
   "source": [
    "Confusion matrix makes it easier to calculate different metrics related to classification. We can calculate accuracy, precision, recall and f1-score using facts from the confusion matrix. \n",
    "\n",
    "    Accuracy is a metric that measures how well a binary classifier can correctly identify the true and false classes. \n",
    "        Accuracy = (TP + TN) / (TP + FN + FP + TN)\n",
    "        \n",
    "    Precision is a metric that measures how well a classifier can correctly identify the positive class. \n",
    "        Precision = TP / (TP + FP) \n",
    "        \n",
    "    Recall is a metric that measures how well a classifier can correctly identify the positive class. \n",
    "        Recall = TP / (TP + FN)\n",
    "    \n",
    "    F1-score is a metric that measures the harmonic mean of precision and recall for a classifier.  F1-score can range from 0 to 1, where 1 means perfect precision and recall and 0 means no correct classification. \n",
    "        F1-Score = (2 x Precision x Recall) / (Precision + Recall)\n",
    "    "
   ]
  },
  {
   "cell_type": "markdown",
   "id": "5a9b1ea0-7fe5-433b-91bc-7e30918ba70e",
   "metadata": {},
   "source": [
    "Refer to following link for detail and comprehensive description of confusion matrix.\n",
    "\n",
    "https://en.wikipedia.org/wiki/Confusion_matrix"
   ]
  },
  {
   "cell_type": "markdown",
   "id": "206ff2c8-fda8-4a2a-86ab-aaa84b3820bb",
   "metadata": {},
   "source": [
    "## Confusion Matrix in case of Binary Classification"
   ]
  },
  {
   "cell_type": "markdown",
   "id": "98786216-bc80-4089-a047-5292e9df9f76",
   "metadata": {},
   "source": [
    "Creating dummy data for actual and predicted labels"
   ]
  },
  {
   "cell_type": "code",
   "execution_count": 156,
   "id": "570502c8-47a1-4744-8b01-798908d49bb7",
   "metadata": {},
   "outputs": [],
   "source": [
    "actual = np.array(\n",
    "    ['Cat', 'Dog', 'Dog', 'Cat', 'Cat', 'Cat', 'Dog', 'Cat', 'Dog', 'Dog'])\n",
    "predicted = np.array(\n",
    "    ['Cat', 'Cat', 'Dog', 'Cat', 'Cat', 'Cat', 'Cat', 'Dog', 'Dog', 'Dog'])"
   ]
  },
  {
   "cell_type": "markdown",
   "id": "9ce073be-7a3c-470f-8763-b234a6d8ae50",
   "metadata": {},
   "source": [
    "Computing confusion matrix"
   ]
  },
  {
   "cell_type": "code",
   "execution_count": 157,
   "id": "34309ef6-34db-41e5-9423-1fe749abbc0d",
   "metadata": {},
   "outputs": [
    {
     "name": "stdout",
     "output_type": "stream",
     "text": [
      "Confusion Matrix\n",
      "[[4 1]\n",
      " [2 3]]\n"
     ]
    }
   ],
   "source": [
    "cm = confusion_matrix(actual, predicted)\n",
    "print('Confusion Matrix')\n",
    "print(cm)"
   ]
  },
  {
   "cell_type": "markdown",
   "id": "d2626dbd-d31b-40ef-9fea-b21bc876c39e",
   "metadata": {},
   "source": [
    "Plotting the confusion matrix"
   ]
  },
  {
   "cell_type": "code",
   "execution_count": 158,
   "id": "248b771a-4040-45a6-8397-b9f4e415be03",
   "metadata": {},
   "outputs": [
    {
     "data": {
      "image/png": "[encoded data removed]",
      "text/plain": [
       "<Figure size 640x480 with 1 Axes>"
      ]
     },
     "metadata": {},
     "output_type": "display_data"
    }
   ],
   "source": [
    "fig, ax = plt.subplots()\n",
    "im = ax.imshow(cm)\n",
    "\n",
    "# Showing all ticks and labelling them with the respective list entries\n",
    "ax.set_xticks(np.arange(2), labels=['Cat', 'Dog'])\n",
    "ax.set_yticks(np.arange(2), labels=['Cat', 'Dog'])\n",
    "\n",
    "# Setting labels for x-axis and y-axis\n",
    "ax.set_xlabel('Predicted', fontsize=13)\n",
    "ax.set_ylabel('Actual', fontsize=13)\n",
    "\n",
    "# Creating text annotations.\n",
    "for i in range(2):\n",
    "    for j in range(2):\n",
    "        text = ax.text(j, i, cm[i, j], color='r')\n",
    "\n",
    "ax.set_title('Confusion Matrix', fontsize=15)\n",
    "fig.tight_layout()\n",
    "plt.show()"
   ]
  },
  {
   "cell_type": "markdown",
   "id": "e24c6b05-c721-460f-88c5-4d14077350de",
   "metadata": {},
   "source": [
    "Computing accuracy, precision, recall and f1-score manually."
   ]
  },
  {
   "cell_type": "code",
   "execution_count": 159,
   "id": "b2ae8849-aa66-4c48-a939-6667049442e7",
   "metadata": {},
   "outputs": [
    {
     "name": "stdout",
     "output_type": "stream",
     "text": [
      "Accuracy  : 0.7\n",
      "Precision : 0.6666666666666666\n",
      "Recall    : 0.8\n",
      "F1-Score  : 0.7272727272727272\n"
     ]
    }
   ],
   "source": [
    "accuracy = (4 + 3)/(4 + 1 + 2 + 3)\n",
    "print('Accuracy  :', accuracy)\n",
    "precision = 4 / (4 + 2)\n",
    "print('Precision :', precision) \n",
    "recall = 4 / (4 + 1)\n",
    "print('Recall    :', recall)\n",
    "F1_Score = (2 * precision * recall) / (precision + recall)\n",
    "print('F1-Score  :', F1_Score)"
   ]
  },
  {
   "cell_type": "markdown",
   "id": "959e8f0a-7b52-41f3-819d-b8e71f265955",
   "metadata": {},
   "source": [
    "Computing accuracy, precision, recall and f1-score using sklearn.metrics."
   ]
  },
  {
   "cell_type": "code",
   "execution_count": 160,
   "id": "8b7635b8-fe58-4a1b-b967-30f0b0b587c3",
   "metadata": {},
   "outputs": [
    {
     "name": "stdout",
     "output_type": "stream",
     "text": [
      "Accuracy  : 0.7\n",
      "Precision : 0.6666666666666666\n",
      "Recall    : 0.8\n",
      "F1-Score  : 0.7272727272727272\n"
     ]
    }
   ],
   "source": [
    "accuracy = accuracy_score(actual, predicted)\n",
    "print('Accuracy  :', accuracy)\n",
    "precision = precision_score(actual, predicted, pos_label='Cat')\n",
    "print('Precision :', precision) \n",
    "recall = recall_score(actual, predicted, pos_label='Cat')\n",
    "print('Recall    :', recall)\n",
    "F1_Score = f1_score(actual, predicted, pos_label='Cat')\n",
    "print('F1-Score  :', F1_Score)"
   ]
  },
  {
   "cell_type": "markdown",
   "id": "f677078c-7881-4af9-b84c-f8d1a6120bee",
   "metadata": {},
   "source": [
    "## Confusion Matrix in case of Multi-Class Classification"
   ]
  },
  {
   "cell_type": "markdown",
   "id": "4950a415-c367-4c98-a3e1-a9d93f696afa",
   "metadata": {},
   "source": [
    "Importing libraries"
   ]
  },
  {
   "cell_type": "code",
   "execution_count": 161,
   "id": "97c34f87-26f0-4a9e-ae71-08c9ae410576",
   "metadata": {},
   "outputs": [],
   "source": [
    "from sklearn.metrics import precision_recall_fscore_support"
   ]
  },
  {
   "cell_type": "markdown",
   "id": "77397085-2b2b-4a4f-8144-54785e1277df",
   "metadata": {},
   "source": [
    "Creating dummy data for actual and predicted labels"
   ]
  },
  {
   "cell_type": "code",
   "execution_count": 162,
   "id": "81b834c7-e9c7-44b0-8c95-1c07e269b246",
   "metadata": {},
   "outputs": [],
   "source": [
    "actual = np.array(\n",
    "    ['Cat', 'Dog', 'Dog', 'Pig', 'Cat', 'Cat', 'Dog', 'Pig', 'Pig', 'Dog'])\n",
    "predicted = np.array(\n",
    "    ['Pig', 'Cat', 'Dog', 'Pig', 'Dog', 'Cat', 'Cat', 'Dog', 'Pig', 'Dog'])"
   ]
  },
  {
   "cell_type": "code",
   "execution_count": 163,
   "id": "db280617-23e5-4438-83d4-bed413fec1e9",
   "metadata": {},
   "outputs": [
    {
     "name": "stdout",
     "output_type": "stream",
     "text": [
      "Confusion Matrix\n",
      "[[1 1 1]\n",
      " [2 2 0]\n",
      " [0 1 2]]\n"
     ]
    }
   ],
   "source": [
    "cm = confusion_matrix(actual, predicted)\n",
    "print('Confusion Matrix')\n",
    "print(cm)"
   ]
  },
  {
   "cell_type": "markdown",
   "id": "0326d164-d189-4b16-8fc3-4bc2a1c7c585",
   "metadata": {},
   "source": [
    "Plotting the confusion matrix"
   ]
  },
  {
   "cell_type": "code",
   "execution_count": 164,
   "id": "91ced9ec-fac2-4ab9-afdc-b9068c627d9f",
   "metadata": {},
   "outputs": [
    {
     "data": {
      "image/png": "[encoded data removed]",
      "text/plain": [
       "<Figure size 640x480 with 1 Axes>"
      ]
     },
     "metadata": {},
     "output_type": "display_data"
    }
   ],
   "source": [
    "fig, ax = plt.subplots()\n",
    "im = ax.imshow(cm)\n",
    "\n",
    "# Showing all ticks and labelling them with the respective list entries\n",
    "ax.set_xticks(np.arange(3), labels=['Cat', 'Dog', 'Pig'])\n",
    "ax.set_yticks(np.arange(3), labels=['Cat', 'Dog', 'Pig'])\n",
    "\n",
    "# Setting labels for x-axis and y-axis\n",
    "ax.set_xlabel('Predicted', fontsize=13)\n",
    "ax.set_ylabel('Actual', fontsize=13)\n",
    "\n",
    "# Creating text annotations.\n",
    "for i in range(3):\n",
    "    for j in range(3):\n",
    "        text = ax.text(j, i, cm[i, j], color='r')\n",
    "\n",
    "ax.set_title('Confusion Matrix', fontsize=15)\n",
    "fig.tight_layout()\n",
    "plt.show()"
   ]
  },
  {
   "cell_type": "markdown",
   "id": "77f07f41-e75a-4f2b-b4ac-b98a2aa75e0b",
   "metadata": {},
   "source": [
    "Computing accuracy, precision, recall and f1-score manually. For a multi-class classification problem, precision can be calculated for each class individually, and then averaged to get the overall precision. There are different ways to average the precision, such as micro, macro, or weighted average2. We will further calculate overall precision using micro average below."
   ]
  },
  {
   "cell_type": "code",
   "execution_count": 165,
   "id": "87044377-c10c-4948-951f-586d59d30ffb",
   "metadata": {},
   "outputs": [
    {
     "name": "stdout",
     "output_type": "stream",
     "text": [
      "Accuracy  : 0.5 \n",
      "\n",
      "Precision (Cat) : 0.3333333333333333\n",
      "Precision (Dog) : 0.5\n",
      "Precision (Pig) : 0.6666666666666666 \n",
      "\n",
      "Recall (Cat)    : 0.3333333333333333\n",
      "Recall (Dog)    : 0.5\n",
      "Recall (Pig)    : 0.6666666666666666 \n",
      "\n",
      "F1-score (Cat)   : 0.3333333333333333\n",
      "F1-score (Cat)   : 0.5\n",
      "F1-score (Cat)   : 0.6666666666666666\n"
     ]
    }
   ],
   "source": [
    "accuracy = (1 + 2 + 2) / (1 + 1 + 1 + 2 + 2 + 0 + 0 + 1 + 2)\n",
    "print('Accuracy  :', accuracy, '\\n')\n",
    "\n",
    "precision_cat = 1 / (1 + 2 + 0)\n",
    "print('Precision (Cat) :', precision_cat)\n",
    "precision_dog = 2 / (1 + 2 + 1)\n",
    "print('Precision (Dog) :', precision_dog)\n",
    "precision_pig = 2 / (1 + 0 + 2)\n",
    "print('Precision (Pig) :', precision_pig, '\\n')\n",
    "\n",
    "recall_cat = 1 / (1 + 1 + 1)\n",
    "print('Recall (Cat)    :', recall_cat)\n",
    "recall_dog = 2 / (2 + 2 + 0)\n",
    "print('Recall (Dog)    :', recall_dog)\n",
    "recall_pig = 2 / (0 + 1 + 2)\n",
    "print('Recall (Pig)    :', recall_pig, '\\n')\n",
    "\n",
    "f1_score_cat = (2 * precision_cat * recall_cat)/ (precision_cat + recall_cat)\n",
    "print('F1-score (Cat)   :', f1_score_cat)\n",
    "f1_score_dog = (2 * precision_dog * recall_dog)/ (precision_dog + recall_dog)\n",
    "print('F1-score (Cat)   :', f1_score_dog)\n",
    "f1_score_pig = (2 * precision_pig * recall_pig)/ (precision_pig + recall_pig)\n",
    "print('F1-score (Cat)   :', f1_score_pig)"
   ]
  },
  {
   "cell_type": "markdown",
   "id": "505e04d6-8ac3-4419-9f77-c9441a7670ae",
   "metadata": {},
   "source": [
    "Computing accuracy, precision, recall and f1-score using sklearn.metrics."
   ]
  },
  {
   "cell_type": "code",
   "execution_count": 166,
   "id": "0e81089d-e1fe-4cc4-8ba8-19373b87094a",
   "metadata": {},
   "outputs": [
    {
     "name": "stdout",
     "output_type": "stream",
     "text": [
      "Accuracy  : 0.5\n",
      "Precision : [0.33333333 0.5        0.66666667]\n",
      "Recall    : [0.33333333 0.5        0.66666667]\n",
      "F1-score   : [0.33333333 0.5        0.66666667]\n"
     ]
    }
   ],
   "source": [
    "accuracy = accuracy_score(actual, predicted)\n",
    "print('Accuracy  :', accuracy)\n",
    "precision, recall, fscore, _ = precision_recall_fscore_support(actual, predicted)\n",
    "print('Precision :', precision)\n",
    "print('Recall    :', recall)\n",
    "print('F1-score   :', fscore)"
   ]
  },
  {
   "cell_type": "markdown",
   "id": "4ef8071d-a640-4c1e-94be-a570de1c3748",
   "metadata": {},
   "source": [
    "Computing overall accuracy, precision, recall and f1-score using micro average. Overall precision is simply average of individual precision values of each class (cat, dog and pig). Overall recall is simply average of individual recall values of each class (cat, dog and pig). Overall f1-score is simply average of individual f1-score values of each class (cat, dog and pig)."
   ]
  },
  {
   "cell_type": "code",
   "execution_count": 167,
   "id": "e90ac092-2f4d-43e5-a121-c750d003ab40",
   "metadata": {},
   "outputs": [
    {
     "name": "stdout",
     "output_type": "stream",
     "text": [
      "Accuracy  : 0.5\n",
      "Overall Precision : 0.5\n",
      "Overall Recall    : 0.5\n",
      "Overall F1-score   : 0.5\n"
     ]
    }
   ],
   "source": [
    "accuracy = accuracy_score(actual, predicted)\n",
    "print('Accuracy  :', accuracy)\n",
    "precision, recall, fscore, _ = precision_recall_fscore_support(actual, predicted, average='micro')\n",
    "print('Overall Precision :', precision)\n",
    "print('Overall Recall    :', recall)\n",
    "print('Overall F1-score   :', fscore)"
   ]
  }
 ],
 "metadata": {
  "kernelspec": {
   "display_name": "Python 3 (ipykernel)",
   "language": "python",
   "name": "python3"
  },
  "language_info": {
   "codemirror_mode": {
    "name": "ipython",
    "version": 3
   },
   "file_extension": ".py",
   "mimetype": "text/x-python",
   "name": "python",
   "nbconvert_exporter": "python",
   "pygments_lexer": "ipython3",
   "version": "3.10.9"
  }
 },
 "nbformat": 4,
 "nbformat_minor": 5
}
